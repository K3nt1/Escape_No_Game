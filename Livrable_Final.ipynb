{
 "cells": [
  {
   "cell_type": "markdown",
   "metadata": {},
   "source": [
    "<i> Gautier Quentin </i> <br>\n",
    "<i> Pallatier-Martinez Lucas </i> <br>\n",
    "<i> El Bannadi Khadija </i> <br>\n",
    "<i> Debiche Rafed </i> <br>"
   ]
  },
  {
   "cell_type": "markdown",
   "metadata": {},
   "source": [
    "<div align=\"center\"> <b> Traitement du signal </b> </div>\n",
    "<div align=\"center\"> <b> Projet - Escape No Game </b> </div>\n",
    "<div align=\"center\"> <b> Livrable 4 </b> </div>"
   ]
  },
  {
   "cell_type": "markdown",
   "metadata": {},
   "source": [
    "<br>\n",
    "<b> <u> I. Contexte : </u> </b> <br>\n",
    "<br>\n",
    "Maintenant que nous avons notre chaîne de transmission du message ainsi que les connaissances et moyens pour le moduler, le transmettre et le récupérer, nous pouvons coder le tout en Python. Ce code appuiera notre POC que nous présenterons au comité de pilotage. Le code ci-après est fragmenté pour faciliter sa lecture et des explications et des commentaires aideront à la compréhension."
   ]
  },
  {
   "cell_type": "markdown",
   "metadata": {},
   "source": [
    "<br>\n",
    "<b> <u> II. Code Python : </u> </b> <br>\n",
    "<br>"
   ]
  },
  {
   "cell_type": "markdown",
   "metadata": {},
   "source": [
    "### Importation des modules nécessaires\n",
    "\n",
    "Pour pouvoir moduler, démoduler et afficher les graphiques des signaux, nous aurons besoin des bibliothèques <i>numpy</i> et <i>matplotlib.pyplot</i>. Nous aurons besoin également de la bibliothèque <i>sounddevice</i> qui nous permettra de jouer le son modulé ainsi que celui de l'accusé de réception. Enfin, la bibliothèque <i>time</i> nous sert  à simuler une réflexion de la machine ou la transmission que nous affichons avec deux phrases.\n",
    "\n",
    "numpy : bibliothèque nous permettant d'utiliser des notions mathématiques, ici le sinus, le nombre pi ainsi que la fonction trapèze; <br>\n",
    "<br>\n",
    "matplotib.pyplot : bibliothèque permettant d'afficher les signaux sous forme de graphique dont nous pouvons définir la taille, l'abscisse et l'ordonnée; <br>\n",
    "<br>\n",
    "sounddevice : bibliothèque permettant de jouer des sons à partir d'un fichier ou d'un signal généré par python dans notre cas; <br>\n",
    "<br>\n",
    "time : bibliothèque nous permettant d'utiliser des fonctions liées au temps, ici <i>time.sleep</i> notamment;"
   ]
  },
  {
   "cell_type": "code",
   "execution_count": 5,
   "metadata": {},
   "outputs": [],
   "source": [
    "#Bibliothèques nécessaires\n",
    "import numpy as np\n",
    "import matplotlib.pyplot as plt\n",
    "import sounddevice as sd\n",
    "import time"
   ]
  },
  {
   "cell_type": "markdown",
   "metadata": {},
   "source": [
    "# Émission\n",
    "\n",
    "Ici, l'agent renseigne le message qu'il souhaite transmettre. Ce message doit faire entre 5 et 10 caractères, caractères spéciaux compris. La fonction <i>print()</i> permet d'afficher le message renseigné afin de corriger une potentielle faute de frappe avant la transmission."
   ]
  },
  {
   "cell_type": "code",
   "execution_count": 6,
   "metadata": {},
   "outputs": [
    {
     "name": "stdout",
     "output_type": "stream",
     "text": [
      "@\n"
     ]
    }
   ],
   "source": [
    "#Ecriture du message de l'Agent\n",
    "Message = str(input('Entrez le message à envoyer (5 à 10 caractères) : '))\n",
    "print(Message) #Affiche le message écrit par l'agent"
   ]
  },
  {
   "cell_type": "markdown",
   "metadata": {},
   "source": [
    "### Conversion du message texte en binaire via la table ASCII\n",
    "\n",
    "Ce programme, à l'aide de la fonction <i>ord()</i> qui permet de trouver la valeur décimale associé à chaque caractère via la table ASCII, convertit en binaire cette valeur décimale et la renvoie afin qu'elle subisse l'encodage CRC. Le programme réalise une boucle tant que tous les caractères de la chaîne renseignée par l'agent n'ont pas été traités et les concatène à la fin."
   ]
  },
  {
   "cell_type": "code",
   "execution_count": 7,
   "metadata": {
    "scrolled": true
   },
   "outputs": [
    {
     "name": "stdout",
     "output_type": "stream",
     "text": [
      "1000000\n"
     ]
    }
   ],
   "source": [
    "#Conversion du message texte en binaire via la table ASCII\n",
    "total_binaire = '' #Création liste total_binary\n",
    "for i in range(len(Message)):\n",
    "    binaire = ''   #Création liste binary\n",
    "    string_ord = ord(Message[i])  #Renvoie le décimal correspondant à chaque caratère de la chaîne de caractères\n",
    "    while string_ord > 0:   #Boucle tant qu'il y a un caractère\n",
    "        x = string_ord % 2\n",
    "        string_ord = string_ord // 2\n",
    "        binaire = str(x) + str(binaire)\n",
    "    total_binaire += binaire #Concaténation des valeurs binaires (si plusieurs caractères à traiter)\n",
    "\n",
    "print(total_binaire) #Affiche la liste total_binary, soit la valeur binaire égale à la valeur décimale associée à la chaîne de caractères"
   ]
  },
  {
   "cell_type": "markdown",
   "metadata": {},
   "source": [
    "### Encodage CRC\n",
    "\n",
    "Pour réaliser le calcul de la clé CRC à partir de la valeur binaire du message et du diviseur CRC, nous avons divisé le programme en trois fonctions distinctes : une fonction <i>xor()</i>, une fonction <i>Division_eucl()</i> et une fonction <i>encodage()</i>. Nous avons fixé le polynôme générateur G(x) = x^3 + 1. Le diviseur CRC vaut donc 1001.\n",
    "\n",
    "def xor() : prend en paramètres deux valeurs binaires appelées a et b qui vaudront 0 ou 1 et réalise un calcul de OU EXCLUSIF; <br>\n",
    "<br>\n",
    "def Division_eucl() : prend en paramètres un dividende (valeur binaire du message) et un diviseur (diviseur CRC fixé à 1001) et réalise la division euclidienne entre ces valeurs. La fonction renvoie le reste de cette division (clé CRC à ajouter au message binaire). <br>\n",
    "<br>\n",
    "def encodage() : prend en paramètres data (message binaire auquel on concatène autant de 0 que la longueur du diviseur CRC, soit '0000') et key (diviseur CRC) et réalise l'algorithme CRC. Cette fonction appelle les fonctions <i>xor()</i> et <i>Division_eucl()</i> mentionnées plus haut et renvoie le message binaire et la clé CRC concaténés."
   ]
  },
  {
   "cell_type": "code",
   "execution_count": 8,
   "metadata": {},
   "outputs": [
    {
     "name": "stdout",
     "output_type": "stream",
     "text": [
      "Les données à envoyer sont : 10000000000\n",
      "Le diviseur CRC est : 1001\n",
      "Les données encodées avec la clé sont : 10000000000010\n"
     ]
    }
   ],
   "source": [
    "#Définition de la fonction XOR utilisée pour la division\n",
    "def xor(a, b):\n",
    "    resultat = [] #Initialisation du résultat\n",
    "    for i in range(1, len(b)): #Boucle pour appliquer la fonction XOR (si les bits sont les mêmes, alors XOR vaut 0, sinon XOR vaut 1)\n",
    "        if a[i] == b[i]:\n",
    "            resultat.append('0')\n",
    "        else:\n",
    "            resultat.append('1')\n",
    "    return ''.join(resultat) #On retourne les données de la fonction XOR sous forme d'une chaîne de caractères\n",
    "\n",
    "#Définition de la fonction division euclidienne\n",
    "def Division_eucl(dividende, diviseur):\n",
    "    val = len(diviseur)\n",
    "    tmp = dividende[0 : val]\n",
    "    while val < len(dividende):\n",
    "        if tmp[0] =='1':\n",
    "            tmp = xor(diviseur, tmp) + dividende[val]\n",
    "        else:\n",
    "            tmp = xor('0' * val, tmp) + dividende[val]\n",
    "        val +=  1\n",
    "    if tmp[0] =='1':\n",
    "        tmp = xor(diviseur, tmp)\n",
    "    else:\n",
    "        tmp = xor('0' * val, tmp)\n",
    "    check = tmp\n",
    "    return check\n",
    "\n",
    "#Définition de la fonction d'encodage CRC (total_binary + 'N-bits 0', G (le polynôme générateur))\n",
    "def encodage(data, key):\n",
    "    long_key = len(key)\n",
    "    data_ajout = data + '0'*(long_key-1)\n",
    "    reste = Division_eucl(data_ajout, key)\n",
    "    data_encode = data + reste\n",
    "    return data_encode\n",
    "\n",
    "#Fonction Main\n",
    "data = total_binaire + '0000'\n",
    "key = '1001' #Diviseur CRC fixé à 1001, G(x) = x^3 + 1\n",
    "print(\"Les données à envoyer sont :\", data) #Affiche la valeur binaire à envoyer\n",
    "time.sleep(1) #Utilisation de la bibliothèque time pour laisser le temps à l'agent de prendre connaissance des données à envoyer et du diviseur\n",
    "print(\"Le diviseur CRC est :\", key) #Affiche le diviseur CRC utilisé\n",
    "time.sleep(2) #Utilisation de la bibliothèque time pour simuler une réflexion de la machine\n",
    "data_crc = encodage(data, key)\n",
    "print(\"Les données encodées avec la clé sont :\", data_crc) #Affiche la valeur binaire concaténée avec la clé calculée"
   ]
  },
  {
   "cell_type": "markdown",
   "metadata": {},
   "source": [
    "### Codage Manchester\n",
    "\n",
    "Le programme ci-après réalise l'encodage Manchester des données encodées avec la clé CRC et renvoie deux listes : une liste de booléens correspondant à une valeur binaire (False pour '0' et True pour '1') et une liste d'entiers contenant l'équivalent Manchester des données encodées."
   ]
  },
  {
   "cell_type": "code",
   "execution_count": 9,
   "metadata": {},
   "outputs": [
    {
     "name": "stdout",
     "output_type": "stream",
     "text": [
      "[True, False, False, False, False, False, False, False, False, False, False, False, True, False]\n",
      "[1, 0, 0, 1, 0, 1, 0, 1, 0, 1, 0, 1, 0, 1, 0, 1, 0, 1, 0, 1, 0, 1, 0, 1, 1, 0, 0, 1]\n"
     ]
    }
   ],
   "source": [
    "#Création d'une liste de booléens correspondant à data_crc (False pour '0', True pour '1')\n",
    "message_bool = []\n",
    "for i in range(0, len(data_crc),1):\n",
    "    if data_crc[i] =='1':\n",
    "        message_bool.append(True)\n",
    "    if data_crc[i] =='0':\n",
    "        message_bool.append(False)\n",
    "print(message_bool) #Affiche la liste de booléens\n",
    "\n",
    "#Codage Manchester du message\n",
    "message_code = []\n",
    "for ii in range(0, len(message_bool)):\n",
    "    if message_bool[ii] == True:\n",
    "        message_code.extend([int(1)])\n",
    "        message_code.extend([int(0)])\n",
    "    if message_bool[ii] == False:\n",
    "        message_code.extend([int(0)])\n",
    "        message_code.extend([int(1)])\n",
    "print(message_code) #Affiche le message codé Manchester"
   ]
  },
  {
   "cell_type": "markdown",
   "metadata": {},
   "source": [
    "### Modulation ASK\n",
    "\n",
    "Les lignes ci-dessous permettent la modulation du signal à partir de la liste obtenue au-dessus. Nous initialisons pour cela différentes variables : la fréquence d'échantillonnage, la fréquence et l'amplitude de la porteuse, le débit binaire, le nombre de bits initial, le nombre de symboles par bit, le nombre total de bits à moduler ainsi que le vecteur temps. <br>\n",
    "Une fois toutes les valeurs fixées et opérations réalisées, nous affichons le signal Manchester ainsi que le signal modulé par amplitude."
   ]
  },
  {
   "cell_type": "code",
   "execution_count": 10,
   "metadata": {},
   "outputs": [
    {
     "data": {
      "image/png": "[encoded data removed]",
      "text/plain": [
       "<Figure size 1000x600 with 1 Axes>"
      ]
     },
     "metadata": {},
     "output_type": "display_data"
    },
    {
     "data": {
      "image/png": "[encoded data removed]",
      "text/plain": [
       "<Figure size 1000x600 with 1 Axes>"
      ]
     },
     "metadata": {},
     "output_type": "display_data"
    }
   ],
   "source": [
    "#Modulation ASK du message\n",
    "M = message_code\n",
    "Fe = 44100 #Fréquence d'échantillonnage\n",
    "Fp = 22000 #Fréquence de la porteuse \n",
    "baud = 300 #Débit binaire\n",
    "Nbits = len(M) #Nombre de bits initial\n",
    "Ns = Fe / baud #Nombre de symboles par bit\n",
    "N = Nbits * Ns #Nombre total de bits à moduler\n",
    "\n",
    "#On génère le message binaire dupliqué\n",
    "M_duplique = np.repeat(M, Ns)\n",
    "\n",
    "#On génère le vecteur temps\n",
    "t = np.arange (0.0, N) / Fe\n",
    "\n",
    "#On génère la porteuse P(t)\n",
    "Ap = 1 #Amplitude de la porteuse\n",
    "Porteuse = Ap * np.sin(2 * np.pi * Fp * t) #Fonction de la porteuse\n",
    "\n",
    "#On réalise la modulation en amplitude (ASK)\n",
    "ASK = Porteuse * M_duplique\n",
    "\n",
    "\n",
    "#Affichage Message binaire et modulation\n",
    "plt.figure (figsize = (10,6))\n",
    "plt.plot(t, M_duplique, 'Black')\n",
    "plt.title('Message M(t)')\n",
    "plt.xlabel('temps (s)')\n",
    "plt.ylabel('Amplitude')\n",
    "plt.grid()\n",
    "\n",
    "plt.figure (figsize = (10,6))\n",
    "plt.plot(t, ASK, 'r')\n",
    "plt.title('Modulation AM(t)')\n",
    "plt.xlabel('temps (s)')\n",
    "plt.ylabel('Amplitude')\n",
    "plt.grid()"
   ]
  },
  {
   "cell_type": "markdown",
   "metadata": {},
   "source": [
    "### Émission du message sous forme de son"
   ]
  },
  {
   "cell_type": "code",
   "execution_count": 11,
   "metadata": {},
   "outputs": [],
   "source": [
    "#Émission du message sous forme de signal (Jouer le son)\n",
    "sd.play(ASK, Fe)"
   ]
  },
  {
   "cell_type": "markdown",
   "metadata": {},
   "source": [
    "### Simulation de la transmission du message"
   ]
  },
  {
   "cell_type": "code",
   "execution_count": 12,
   "metadata": {},
   "outputs": [
    {
     "name": "stdout",
     "output_type": "stream",
     "text": [
      "Le message est en cours de transmission...\n"
     ]
    }
   ],
   "source": [
    "message = \"Le message est en cours de transmission...\"\n",
    "\n",
    "for char in message:\n",
    "    print(char, end='', flush=True)\n",
    "    time.sleep(0.1)  #Ajuster la durée selon préférences\n",
    "print()"
   ]
  },
  {
   "cell_type": "markdown",
   "metadata": {},
   "source": [
    "# Réception"
   ]
  },
  {
   "cell_type": "markdown",
   "metadata": {},
   "source": [
    "### Simulation de la réception du message"
   ]
  },
  {
   "cell_type": "code",
   "execution_count": 13,
   "metadata": {},
   "outputs": [
    {
     "name": "stdout",
     "output_type": "stream",
     "text": [
      "Le message est en cours de réception..."
     ]
    }
   ],
   "source": [
    "nmessage = \"Le message est en cours de réception...\"\n",
    "\n",
    "for char in nmessage:\n",
    "    print(char, end='', flush=True)\n",
    "    time.sleep(0.1)  #Ajuster la durée selon préférences"
   ]
  },
  {
   "cell_type": "markdown",
   "metadata": {},
   "source": [
    "### Démodulation ASK\n",
    "\n",
    "Pour démoduler le signal et donc récupérer le message de l'agent, l'agent d'écoute doit utiliser les mêmes fréquences d'échantillonnage et de porteuse ainsi que le même débit binaire. En multipliant la porteuse avec le signal modulé, l'agent obtiendra le signal démodulé."
   ]
  },
  {
   "cell_type": "code",
   "execution_count": 14,
   "metadata": {},
   "outputs": [
    {
     "name": "stdout",
     "output_type": "stream",
     "text": [
      "[ 0.          0.00712373 -0.0142471  ... -0.85514276  0.85881395\n",
      " -0.86244156]\n"
     ]
    },
    {
     "data": {
      "image/png": "[encoded data removed]",
      "text/plain": [
       "<Figure size 640x480 with 1 Axes>"
      ]
     },
     "metadata": {},
     "output_type": "display_data"
    }
   ],
   "source": [
    "#Démodulation ASK du signal\n",
    "Fe = 44100\n",
    "Fp = 22000\n",
    "baud = 300\n",
    "N = len(ASK)\n",
    "Ns = Fe / baud\n",
    "\n",
    "t = np.arange (0.0, N)/Fe\n",
    "\n",
    "Porteuse = np.sin(2 * np.pi * Fp * t)\n",
    "Produit = ASK * Porteuse #Produit du signal modulé et de la porteuse pour obtenir le signal démodulé\n",
    "\n",
    "#Intégration\n",
    "y = []\n",
    "for i in range(0,int(N), int(Ns)):\n",
    "    y.append(np.trapz(Produit[i:i+int(Ns)], t[i:i+int(Ns)])) #Utilisation de la méthode des trapèzes\n",
    "\n",
    "plt.plot(t, ASK, 'b')\n",
    "plt.axis([0, 0.05, -1, 1])\n",
    "print(ASK) #Affiche le signal démodulé"
   ]
  },
  {
   "cell_type": "markdown",
   "metadata": {},
   "source": [
    "### Décodage Manchester\n",
    "\n",
    "Le programme suivant réalise le désencodage Manchester à partir du signal démodulé. La fonction renvoie la liste de caractères correspondant au message transmis avec la clé CRC."
   ]
  },
  {
   "cell_type": "code",
   "execution_count": 15,
   "metadata": {},
   "outputs": [
    {
     "name": "stdout",
     "output_type": "stream",
     "text": [
      "['1', '0', '0', '0', '0', '0', '0', '0', '0', '0', '0', '0', '1', '0']\n"
     ]
    }
   ],
   "source": [
    "#Décodage Manchester\n",
    "message_demodule = np.array(y)>0\n",
    "\n",
    "message_recu_decode = [] #Initialisation de la liste pour stocker les valeurs binaires à partir du signal démodulé\n",
    "for iii in range(0, len(message_demodule)):\n",
    "    if message_demodule[iii] == True:\n",
    "        message_recu_decode.extend([int(1)])\n",
    "    if message_demodule[iii] == False:\n",
    "        message_recu_decode.extend([int(0)])\n",
    "\n",
    "message_recu_bin = [] #Initialisation de la liste pour stocker les valeurs binaires à partir de la liste message_recu_decode\n",
    "for iiii in range(0, len(message_demodule), 2):\n",
    "    if message_recu_decode[iiii] == 1 and message_recu_decode[iiii+1] == 0:\n",
    "        message_recu_bin.extend([str(1)])\n",
    "    if message_recu_decode[iiii] == 0 and message_recu_decode[iiii+1] == 1:\n",
    "        message_recu_bin.extend([str(0)])\n",
    "print(message_recu_bin) #Affichage de la liste du décodage Manchester"
   ]
  },
  {
   "cell_type": "markdown",
   "metadata": {},
   "source": [
    "### Conversion de la liste en chaîne de caractère pour les étapes suivantes\n",
    "\n",
    "Ici, l'agent d'écoute transforme la liste d'entiers du décodage Manchester en une chaîne de caractères équivalente et l'affiche."
   ]
  },
  {
   "cell_type": "code",
   "execution_count": 16,
   "metadata": {},
   "outputs": [
    {
     "name": "stdout",
     "output_type": "stream",
     "text": [
      "10000000000010\n"
     ]
    }
   ],
   "source": [
    "#conversion liste en chaine de caractère\n",
    "message_receptionne =''.join(message_recu_bin)\n",
    "print(message_receptionne) #Affiche la chaîne de caractères à partir de la liste message_recu_bin"
   ]
  },
  {
   "cell_type": "markdown",
   "metadata": {},
   "source": [
    "### Décodage CRC et vérification d'erreur\n",
    "\n",
    "L'agent d'écoute utilise de nouveau l'algorithme CRC afin de récupérer le message transmis par l'agent dans la salle de conférence. Cet algorithme réalise des opérations de OU EXCLUSIF afin d'obtenir un reste nul. Si tel est le cas, alors le message a été récupéré et aucune erreur ne s'est glissée lors de la transmission."
   ]
  },
  {
   "cell_type": "code",
   "execution_count": 17,
   "metadata": {},
   "outputs": [
    {
     "name": "stdout",
     "output_type": "stream",
     "text": [
      "Le reste de la division après décodage est -> 000\n",
      "Les données -> 10000000000 <- ont bien été reçues!\n"
     ]
    }
   ],
   "source": [
    "#Définition de la fonction de décodage\n",
    "def decodage(data_crc, key):\n",
    "    long_key = len(key)\n",
    "    data_ajout = data_crc + '0' * (long_key-1)\n",
    "    reste = Division_eucl(data_ajout, key)\n",
    "    return reste\n",
    "\n",
    "key = '1001'\n",
    "check = decodage(message_receptionne, key)                      #Récupération du reste de la division euclidienne du message réceptionné par la clé\n",
    "print(\"Le reste de la division après décodage est -> \" + check)\n",
    "temp = \"0\" * (len(key) - 1)                                     #Récupération du message de base\n",
    "if check == temp:\n",
    "    print(\"Les données -> \" + data + \" <- ont bien été reçues!\")\n",
    "else:\n",
    "    print(\"Erreur de réception\")"
   ]
  },
  {
   "cell_type": "markdown",
   "metadata": {},
   "source": [
    "### Conversion du message binaire en texte via la table ASCII\n",
    "\n",
    "Ce programme permet de passer le message binaire en décimal et de récupérer le caractère associé via la table ASCII. Cela est possible grâce à la fonction <i>chr()</i> qui récupère le caractère Unicode lié à la valeur décimale."
   ]
  },
  {
   "cell_type": "code",
   "execution_count": 18,
   "metadata": {},
   "outputs": [],
   "source": [
    "#Définition de la fonction de conversion du binaire en décimale\n",
    "def BinaryToDecimal(binary):  \n",
    "    #initialisation des variables\n",
    "    decimal = 0\n",
    "    i = 0\n",
    "    n = 0\n",
    "    while(binary != 0): \n",
    "        dec = binary % 10\n",
    "        decimal = decimal + dec * pow(2, i) \n",
    "        binary = binary//10\n",
    "        i += 1\n",
    "    return (decimal)\n",
    "\n",
    "#Conversion du message binaire en texte via la table ASCII\n",
    "Total_texte = ''\n",
    "for i in range(0, len(message_receptionne), 7):\n",
    "    bin_data = int(message_receptionne[i:i+7])\n",
    "    decimal_data = BinaryToDecimal(bin_data)\n",
    "    Total_texte = Total_texte + chr(decimal_data)"
   ]
  },
  {
   "cell_type": "markdown",
   "metadata": {},
   "source": [
    "### Affichage du message"
   ]
  },
  {
   "cell_type": "code",
   "execution_count": 19,
   "metadata": {},
   "outputs": [
    {
     "name": "stdout",
     "output_type": "stream",
     "text": [
      "@\u0002\n"
     ]
    }
   ],
   "source": [
    "#Affichage du message\n",
    "print(Total_texte)"
   ]
  },
  {
   "cell_type": "markdown",
   "metadata": {},
   "source": [
    "### Accusé de réception\n",
    "\n",
    "Ces lignes permettent l'émission d'un son aigu en cas de bonne réception du message émis par l'agent dans la salle de conférence."
   ]
  },
  {
   "cell_type": "code",
   "execution_count": 20,
   "metadata": {},
   "outputs": [],
   "source": [
    "verification = int(check,2)\n",
    "FeA = 44100\n",
    "t = np.arange(0, 0.2, 1 / FeA)\n",
    "Accusé_réception = np.sin(2 * np.pi * 5000 * t)\n",
    "if verification == 0:\n",
    "    sd.play(Accusé_réception, FeA)   #Émission du message sous forme de signal"
   ]
  }
 ],
 "metadata": {
  "kernelspec": {
   "display_name": "Python 3",
   "language": "python",
   "name": "python3"
  },
  "language_info": {
   "codemirror_mode": {
    "name": "ipython",
    "version": 3
   },
   "file_extension": ".py",
   "mimetype": "text/x-python",
   "name": "python",
   "nbconvert_exporter": "python",
   "pygments_lexer": "ipython3",
   "version": "3.11.4"
  }
 },
 "nbformat": 4,
 "nbformat_minor": 4
}
