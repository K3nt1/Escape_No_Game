{
 "cells": [
  {
   "cell_type": "markdown",
   "id": "c6b3024f",
   "metadata": {},
   "source": [
    "<i> Gautier Quentin </i> <br>\n",
    "<i> Pallatier-Martinez Lucas </i> <br>\n",
    "<i> El Bannadi Khadija </i> <br>\n",
    "<i> Debiche Rafed </i> <br>"
   ]
  },
  {
   "cell_type": "markdown",
   "id": "d5e14f95",
   "metadata": {},
   "source": [
    "<center> <b> Traitement du signal </b> </center>\n",
    "<center> <b> Projet - Escape No Game </b> </center>\n",
    "<center> <b> Livrable 3 </b> </center>"
   ]
  },
  {
   "cell_type": "markdown",
   "id": "078dca65",
   "metadata": {},
   "source": [
    "<br>\n",
    "<b> <u> I. Contexte : </u> </b> <br>\n",
    "<br>\n",
    "Afin de préparer la présentation de notre POC au prochain comité de pilotage du département Recherche et Développement, il nous est demandé d'expliquer en détail le fonctionnement de notre solution. <br>\n",
    "Évolution par rapport au livrable 2 : Nous avons vu dans notre étude que nous pouvions réaliser le filtrage d'un signal numériquement. Nous allons donc abandonner l'idée d'un filtrage analogique : le signal reçu étant numérique, il est plus simple de le filtrer numériquement."
   ]
  },
  {
   "attachments": {},
   "cell_type": "markdown",
   "id": "e8db3059",
   "metadata": {},
   "source": [
    "<b> <u> II. Plan d'action : </u> </b>\n",
    "<br>\n",
    "<br>\n",
    "Pour aider à la compréhension du problème et sa résolution, voici un schéma explicatif simple, de l'envoi du message (son) jusqu'à sa réception : <br>\n",
    "<br>\n",
    "<img src=\"schema_ex.png\" alt=\"Schéma explicatif\" title=\"Schéma explicatif du problème\"> <br>\n",
    "<br>\n",
    "Au début de la chaîne, le signal est analogique. Il est ensuite converti en signal numérique via un CAN (Convertisseur Analogique-Numérique) puis modulé par modulation ASK (Amplitude-Shift Keying). Le signal, analogique et périodique, transite ainsi sur le réseau jusqu'à sa réception (l'image de l'antenne sert à la compréhension, il n'y aura pas d'antennes dans le rendu final). Il est ensuite démodulé puis retransformé en signal analogique par un CNA (Convertisseur Numérique-Analogique) afin que l'agent d'écoute puisse prendre connaissance du message."
   ]
  },
  {
   "cell_type": "markdown",
   "metadata": {},
   "source": [
    "Pour réaliser les schémas de transmission d'un son, d'un fichier texte et d'un fichier binaire, nous avons utilisé le logiciel gratuit <a href=\"https://www.lucidchart.com/pages/landing\"> Lucid.app</a>.\n",
    "<br>\n",
    "<br>\n",
    "Voir l'annexe en fin de document pour les images aidant à la compréhension des outils et encodages mentionnés.<br>\n",
    "1. Voici donc la chaîne de transmission d'un son capté par le pad de l'agent :\n",
    "<br>\n",
    "<br>\n",
    "<img src=\"schema_son.png\" alt=\"Schéma son\" title=\"Schéma de transmission d'un son\">\n",
    "<br>\n",
    "<br>\n",
    "Ce son (signal analogique) est transformé en signal numérique grâce à un CAN codé sur 10 bits. De ce fait, il sera plus simple à encoder et à transporter. <br> \n",
    "Nous utilisons ensuite un algorithme de vérification, le CRC (Cyclic Redundancy Check). Le CRC d'une chaîne de donnée délimitée est évalué (échantillonné puis calculé) avant la transmission ou le transfert et inscrit sur quelques bits à la fin de la chaîne. Après transmission, il est recalculé et comparé au chiffre de fin de chaîne pour s’assurer que les données sont probablement identiques. <br> \n",
    "Ensuite, le son (signal numérique) subit un encodage Manchester afin de synchroniser l'émetteur et le récepteur. Les transitions du signal codé transmettent à la fois la valeur logique du bit (0 ou 1) et l'instant de son échantillonnage. Une transition intermédiaire est ajoutée lorsque des bits de même valeur se suivent. Cela aide à la récupération du signal. <br> \n",
    "<br>\n",
    "Ces deux premières étapes constituaient les canaux de codage du fichier à transmettre à l'agence. <br>\n",
    "<br>\n",
    "Pour envoyer ce message sur de longues distances, nous utilisons un modulateur ASK. Nous créons pour cela un signal d'une certaine fréquence (la porteuse) qui représente notre signal numérique binaire. L'amplitude du signal sur une période T indiquera l'état logique du bit (0 ou 1) codé sur ladite période. Ce signal modulé est ensuite envoyé sur le canal de communication : l'agence n'a plus qu'à le réceptionner. <br>\n",
    "<br>\n",
    "Une fois le signal reçu, l'agent d'écoute doit réaliser la procédure inverse : démodulation ASK, désencodage Manchester, utilisation du CRC puis CNA. <br>\n",
    "<br>\n",
    "Ces étapes constituent donc les canaux de décodage. <br>\n",
    "<br> Après avoir réalisé tout cela, le message pourra être écouté et l'agence pourra empêcher les cyber-criminels de nuire."
   ]
  },
  {
   "cell_type": "markdown",
   "metadata": {},
   "source": [
    "2. Prenons le cas de l'envoi d'un fichier texte :\n",
    "<br>\n",
    "<br>\n",
    "<img src=\"schema_texte.png\" alt=\"Schéma texte\" title=\"Schéma de transmission d'un fichier texte\">\n",
    "<br>\n",
    "<br>\n",
    "Le fichier est codé en ASCII (American Standard Code for Information Interchange) puis encrypté sur des bits. L'ASCII est un codage fonctionnant sur 7 bits. (les ordinateurs fonctionnant, eux, sur 8 bits, le 8ème bit est donc complété par un 0). Le signal numérique subit les procédures précédemment nommées : le CRC, l'encodage Manchester et la modulation ASK. De l'encodage Manchester jusqu'au désencodage Manchester, le signal est périodique pour faciliter la transmission. La fin du schéma est identique au précédent : démodulaton ASK, désencodage Manchester, CRC puis décodage ASCII. Ce dernier permet de récupérer le texte d'origine."
   ]
  },
  {
   "cell_type": "markdown",
   "metadata": {},
   "source": [
    "3. Voyons enfin le cas de transmission d'un fichier binaire :\n",
    "<br>\n",
    "<br>\n",
    "<img src=\"schema_binaire.png\" alt=\"Schéma binaire\" title=\"Schéma de transmission d'un fichier binaire\">\n",
    "<br>\n",
    "<br>\n",
    "Le message, déjà écrit en binaire, n'a pas besoin de subir d'aussi grandes modifications qu'un son ou un texte. Il subit tout de même le CRC puis est modulé par modulation ASK avant d'être envoyé. Le signal, comme pour la transmission d'un texte, est périodique. Pour décoder le signal, il est démodulé puis repasse le CRC avant de pouvoir être lu par l'agent d'écoute."
   ]
  },
  {
   "cell_type": "markdown",
   "id": "68b5c547",
   "metadata": {},
   "source": [
    "<u> Remarque :</u> Dans ces trois cas et étant donné que le message à moduler est en binaire, la fréquence d'échantillonnage sera identique et vaudra 44,1 kHZ. La porteuse, quant à elle, aura une fréquence de 22000 Hz et une amplitude de 1. Le débit binaire sera fixé à 300 bit/s."
   ]
  },
  {
   "cell_type": "markdown",
   "id": "d4fb0216",
   "metadata": {},
   "source": [
    "Supposons que l'on veuille envoyer un message simple que l'on convertira en ASCII. Par exemple, \"@\" s'écrit \"64\" en ASCII. Ce \"64\" va être codé sur des bits et s'écrit donc \"01000000\" en ASCII et sur 8 bits. Nous avons donc notre message codé en binaire. Le message subit désormais le CRC, un algorithme permettant de vérifier le contenu d'un message et de le comparer avec celui reçu : cela évite ainsi des erreurs pouvant arriver lors de la transmission. <br>\n",
    "<br>\n",
    "Le signal sortant du CRC est maintenant périodique et est prêt à être modulé. <br>\n",
    "<br>\n",
    "Afin de le moduler correctement, il faut définir plusieurs valeurs : la fréquence d'échantillonage (Feq), la fréquence de la porteuse (Fp), l'amplitude la porteuse (Ap), le débit binaire sur le canal de communication (exprimé en bit/s ou en bauds), le nombre de symboles par bit (Ns = Feq / débit) et enfin le nombre de bits à moduler (N = Ns * la taille du message (=nombre de bits)). <br>\n",
    "<br>\n",
    "Une fois modulé, le signal est envoyé sur le canal de communication et attend d'être réceptionné par l'agence. Une fois le signal réceptionné, l'agent d'écoute devra réaliser la procédure inverse : démodulation ASK, désencodage Manchester, CRC et décodage ASCII. <br>\n",
    "<br>\n",
    "L'agent d'écoute aura donc, affiché sur son ordinateur, dans l'ordre de décodage : le signal modulé, le signal Manchester, le message binaire avec le CRC, le message binaire pur \"01000000\" et enfin \"@\". Le message a bien été transmis !"
   ]
  },
  {
   "cell_type": "markdown",
   "id": "e15f9db1",
   "metadata": {},
   "source": [
    "<b> <u> III. Conclusion : </u> </b>\n",
    "<br>\n",
    "<br>\n",
    "Nous avons donc vu comment nous pourrions transmettre des messages de différents types à l'aide notamment de la modulation ASK ainsi que d'autres algorithmes tels que le CRC. Il ne reste plus qu'à traduire les chaînes de transmission en langage Python afin de rendre le tout plus concret."
   ]
  },
  {
   "cell_type": "markdown",
   "id": "841ba012",
   "metadata": {},
   "source": [
    "<b> <u> Annexe : </u> </b>\n",
    "<br>\n",
    "<br>\n",
    "1. <u> Modulation ASK : </u> <br>\n",
    "<br>\n",
    "<img src=\"ask.png\" alt=\"Modulation ASK\" title =\"Modulation ASK\"> <br>\n",
    "<br>\n",
    "Variation de l'amplitude sur une période T en fonction de l'état logique du bit de la chaîne en entrée. <br>\n",
    "<br>\n",
    "<br>\n",
    "<br>\n",
    "2. <u> CRC : </u> <br>\n",
    "<br>\n",
    "<img src=\"crc.png\" alt=\"CRC\" title =\"CRC\"> <br>\n",
    "<br>\n",
    "Le fichier binaire est échantilloné et calculé avant son envoi afin de pouvoir vérifier son contenu lors de sa réception. Le résultat de cette opération est ajouté à la fin de la chaîne. Lors de la réception, l'algorithme fait le procédé inverse. Il est capable d'afficher un message d'erreur voire même de retransmettre le message. <br>\n",
    "<br>\n",
    "<br>\n",
    "<br>\n",
    "3. <u> Codage Manchester : </u> <br>\n",
    "<br>\n",
    "<img src=\"manchester.png\" alt=\"Codage Manchester\" title =\"Codage Manchester\"> <br>\n",
    "<br>\n",
    "<img src=\"manchester2.png\" alt=\"Codage Manchester\" title =\"Codage Manchester\"> <br>\n",
    "<br>\n",
    "Les transition du signal indiquent l'état logique du bit ainsi que l'instant de son échantillonnage.\n",
    "<br>\n",
    "<br>\n",
    "<br>\n",
    "4. <u> Table ASCII : </u> <br>\n",
    "<br>\n",
    "<img src=\"ascii.png\" alt=\"Table ASCII\" title =\"Table ASCII\"> <br>\n",
    "<br>\n",
    "Le codage ASCII comporte 128 caractères, de 0 à 127 et est codé sur 7 bits. Un \"0\" est ajouté à gauche afin de créer une chaîne de 8 bits, plus facilement compréhensible pour les machines. Chaque caractère a son propre code binaire (base de 2), décimal (base de 10), hexadécimal (base de 16) et octal (base de 8). Les 32 premiers caractères, de 0 à 31 donc, sont appelés \"caractères de contrôle\" et permettent des actions telles que le retour à la ligne (CR) ou un bip sonore (BEL)."
   ]
  }
 ],
 "metadata": {
  "kernelspec": {
   "display_name": "Python 3 (ipykernel)",
   "language": "python",
   "name": "python3"
  },
  "language_info": {
   "codemirror_mode": {
    "name": "ipython",
    "version": 3
   },
   "file_extension": ".py",
   "mimetype": "text/x-python",
   "name": "python",
   "nbconvert_exporter": "python",
   "pygments_lexer": "ipython3",
   "version": "3.11.4"
  }
 },
 "nbformat": 4,
 "nbformat_minor": 5
}
